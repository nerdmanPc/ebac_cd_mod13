{
 "cells": [
  {
   "cell_type": "markdown",
   "metadata": {},
   "source": [
    "# EBAC - Regressão II - regressão múltipla\n",
    "\n",
    "## Tarefa I"
   ]
  },
  {
   "cell_type": "markdown",
   "metadata": {},
   "source": [
    "#### Previsão de renda II\n",
    "\n",
    "Vamos continuar trabalhando com a base 'previsao_de_renda.csv', que é a base do seu próximo projeto. Vamos usar os recursos que vimos até aqui nesta base.\n",
    "\n",
    "|variavel|descrição|\n",
    "|-|-|\n",
    "|data_ref                | Data de referência de coleta das variáveis |\n",
    "|index                   | Código de identificação do cliente|\n",
    "|sexo                    | Sexo do cliente|\n",
    "|posse_de_veiculo        | Indica se o cliente possui veículo|\n",
    "|posse_de_imovel         | Indica se o cliente possui imóvel|\n",
    "|qtd_filhos              | Quantidade de filhos do cliente|\n",
    "|tipo_renda              | Tipo de renda do cliente|\n",
    "|educacao                | Grau de instrução do cliente|\n",
    "|estado_civil            | Estado civil do cliente|\n",
    "|tipo_residencia         | Tipo de residência do cliente (própria, alugada etc)|\n",
    "|idade                   | Idade do cliente|\n",
    "|tempo_emprego           | Tempo no emprego atual|\n",
    "|qt_pessoas_residencia   | Quantidade de pessoas que moram na residência|\n",
    "|renda                   | Renda em reais|"
   ]
  },
  {
   "cell_type": "code",
   "execution_count": 1,
   "metadata": {},
   "outputs": [],
   "source": [
    "import numpy as np\n",
    "import pandas as pd\n",
    "import matplotlib.pyplot as plt\n",
    "import seaborn as sns\n",
    "\n",
    "import patsy\n",
    "import statsmodels.api as sm\n",
    "import statsmodels.formula.api as smf\n",
    "\n",
    "from sklearn.model_selection import train_test_split\n",
    "from sklearn.tree import DecisionTreeRegressor\n",
    "#from sklearn.metrics import mean_squared_error\n",
    "\n",
    "from lib import stepwise_selection"
   ]
  },
  {
   "cell_type": "code",
   "execution_count": 2,
   "metadata": {},
   "outputs": [],
   "source": [
    "df = pd.read_csv('previsao_de_renda.csv').dropna().drop_duplicates()\n",
    "df.drop('Unnamed: 0', axis=1, inplace=True)\n",
    "df.drop('data_ref', axis=1, inplace=True)\n",
    "df.drop('id_cliente', axis=1, inplace=True)"
   ]
  },
  {
   "cell_type": "code",
   "execution_count": 4,
   "metadata": {},
   "outputs": [],
   "source": [
    "from dataclasses import replace\n",
    "\n",
    "\n",
    "df = pd.get_dummies(df)\n",
    "df.rename(lambda name: name.replace(' ', '_'), inplace=True, axis=1)\n",
    "df['posse_de_veiculo'] = df['posse_de_veiculo'].astype('int')\n",
    "df['posse_de_imovel'] = df['posse_de_imovel'].astype('int')"
   ]
  },
  {
   "cell_type": "code",
   "execution_count": 5,
   "metadata": {},
   "outputs": [
    {
     "name": "stdout",
     "output_type": "stream",
     "text": [
      "<class 'pandas.core.frame.DataFrame'>\n",
      "Int64Index: 12427 entries, 0 to 14999\n",
      "Data columns (total 30 columns):\n",
      " #   Column                         Non-Null Count  Dtype  \n",
      "---  ------                         --------------  -----  \n",
      " 0   posse_de_veiculo               12427 non-null  int64  \n",
      " 1   posse_de_imovel                12427 non-null  int64  \n",
      " 2   qtd_filhos                     12427 non-null  int64  \n",
      " 3   idade                          12427 non-null  int64  \n",
      " 4   tempo_emprego                  12427 non-null  float64\n",
      " 5   qt_pessoas_residencia          12427 non-null  float64\n",
      " 6   renda                          12427 non-null  float64\n",
      " 7   sexo_F                         12427 non-null  uint8  \n",
      " 8   sexo_M                         12427 non-null  uint8  \n",
      " 9   tipo_renda_Assalariado         12427 non-null  uint8  \n",
      " 10  tipo_renda_Bolsista            12427 non-null  uint8  \n",
      " 11  tipo_renda_Empresário          12427 non-null  uint8  \n",
      " 12  tipo_renda_Pensionista         12427 non-null  uint8  \n",
      " 13  tipo_renda_Servidor_público    12427 non-null  uint8  \n",
      " 14  educacao_Primário              12427 non-null  uint8  \n",
      " 15  educacao_Pós_graduação         12427 non-null  uint8  \n",
      " 16  educacao_Secundário            12427 non-null  uint8  \n",
      " 17  educacao_Superior_completo     12427 non-null  uint8  \n",
      " 18  educacao_Superior_incompleto   12427 non-null  uint8  \n",
      " 19  estado_civil_Casado            12427 non-null  uint8  \n",
      " 20  estado_civil_Separado          12427 non-null  uint8  \n",
      " 21  estado_civil_Solteiro          12427 non-null  uint8  \n",
      " 22  estado_civil_União             12427 non-null  uint8  \n",
      " 23  estado_civil_Viúvo             12427 non-null  uint8  \n",
      " 24  tipo_residencia_Aluguel        12427 non-null  uint8  \n",
      " 25  tipo_residencia_Casa           12427 non-null  uint8  \n",
      " 26  tipo_residencia_Com_os_pais    12427 non-null  uint8  \n",
      " 27  tipo_residencia_Comunitário    12427 non-null  uint8  \n",
      " 28  tipo_residencia_Estúdio        12427 non-null  uint8  \n",
      " 29  tipo_residencia_Governamental  12427 non-null  uint8  \n",
      "dtypes: float64(3), int64(4), uint8(23)\n",
      "memory usage: 1.0 MB\n"
     ]
    }
   ],
   "source": [
    "df.info()"
   ]
  },
  {
   "cell_type": "markdown",
   "metadata": {},
   "source": [
    "1. Separe a base em treinamento e teste (25% para teste, 75% para treinamento).\n",
    "2. Rode uma regularização *ridge* com alpha = [0, 0.001, 0.005, 0.01, 0.05, 0.1] e avalie o $R^2$ na base de testes. Qual o melhor modelo?\n",
    "3. Faça o mesmo que no passo 2, com uma regressão *LASSO*. Qual método chega a um melhor resultado?\n",
    "4. Rode um modelo *stepwise*. Avalie o $R^2$ na vase de testes. Qual o melhor resultado?\n",
    "5. Compare os parâmetros e avalie eventuais diferenças. Qual modelo você acha o melhor de todos?\n",
    "6. Partindo dos modelos que você ajustou, tente melhorar o $R^2$ na base de testes. Use a criatividade, veja se consegue inserir alguma transformação ou combinação de variáveis.\n",
    "7. Ajuste uma árvore de regressão e veja se consegue um $R^2$ melhor com ela."
   ]
  },
  {
   "cell_type": "markdown",
   "metadata": {},
   "source": [
    "##### Parte 1"
   ]
  },
  {
   "cell_type": "code",
   "execution_count": 7,
   "metadata": {},
   "outputs": [],
   "source": [
    "df_X = df.drop('renda', axis=1)\n",
    "df_y = df['renda'].to_frame()\n",
    "X_train, X_test, y_train, y_test = train_test_split(df_X, df_y, train_size=.75)\n",
    "df_train = pd.concat([X_train, y_train], axis=1)"
   ]
  },
  {
   "cell_type": "markdown",
   "metadata": {},
   "source": [
    "##### Parte 2"
   ]
  },
  {
   "cell_type": "code",
   "execution_count": 30,
   "metadata": {},
   "outputs": [
    {
     "name": "stdout",
     "output_type": "stream",
     "text": [
      "R²(0) = 0.3914619299625272\n",
      "R²(0.001) = 0.39027340299099766\n",
      "R²(0.005) = 0.3763216854139829\n",
      "R²(0.01) = 0.35085948880869594\n",
      "R²(0.05) = 0.07247112226046577\n",
      "R²(0.1) = 0.005277944083218187\n"
     ]
    }
   ],
   "source": [
    "alphas = [0, .001, .005, .01, .05, .1]\n",
    "r_quadrados = []\n",
    "for alpha in alphas:\n",
    "    reg = smf.ols('np.log(renda) ~ '\n",
    "        'sexo_M + posse_de_veiculo + posse_de_imovel + '\n",
    "        'qtd_filhos + tipo_renda_Bolsista + tipo_renda_Empresário + '\n",
    "        'tipo_renda_Pensionista + tipo_renda_Servidor_público + '\n",
    "        'educacao_Primário + educacao_Pós_graduação + '\n",
    "        'educacao_Superior_completo + educacao_Superior_incompleto + '\n",
    "        'estado_civil_Separado + estado_civil_Solteiro + '\n",
    "        'estado_civil_União + estado_civil_Viúvo +'\n",
    "        'tipo_residencia_Aluguel + tipo_residencia_Com_os_pais + '\n",
    "        'tipo_residencia_Comunitário + tipo_residencia_Estúdio + '\n",
    "        'tipo_residencia_Governamental + idade + tempo_emprego + qt_pessoas_residencia',\n",
    "        data = df_train\n",
    "    )\n",
    "    reg = reg.fit_regularized(method='elastic_net', refit=True, L1_wt=0, alpha=alpha)\n",
    "    y_pred = np.exp(reg.predict(X_test))\n",
    "    y_real = y_test['renda']\n",
    "    r_quadrado = y_real.corr(y_pred) ** 2\n",
    "    r_quadrados.append(r_quadrado)\n",
    "    print(f'R²({alpha}) = {r_quadrado}')"
   ]
  },
  {
   "cell_type": "code",
   "execution_count": 31,
   "metadata": {},
   "outputs": [
    {
     "data": {
      "text/plain": [
       "Text(0, 0.5, 'R Quadrado')"
      ]
     },
     "execution_count": 31,
     "metadata": {},
     "output_type": "execute_result"
    },
    {
     "data": {
      "image/png": "[encoded data removed]",
      "text/plain": [
       "<Figure size 432x288 with 1 Axes>"
      ]
     },
     "metadata": {
      "needs_background": "light"
     },
     "output_type": "display_data"
    }
   ],
   "source": [
    "graf = sns.lineplot(x=alphas, y=r_quadrados, markers='o')\n",
    "graf.set_xlabel('Alpha')\n",
    "graf.set_ylabel('R Quadrado')"
   ]
  },
  {
   "cell_type": "markdown",
   "metadata": {},
   "source": [
    "Se considerarmos apenas o $R^2$, o melhor modelo é o de $\\alpha = 0$."
   ]
  },
  {
   "cell_type": "markdown",
   "metadata": {},
   "source": [
    "##### Parte 3"
   ]
  },
  {
   "cell_type": "code",
   "execution_count": 32,
   "metadata": {},
   "outputs": [
    {
     "name": "stdout",
     "output_type": "stream",
     "text": [
      "R²(0) = 0.3914619299625274\n",
      "R²(0.001) = 0.3904164690323379\n",
      "R²(0.005) = 0.3990643772289674\n",
      "R²(0.01) = 0.3990643772289674\n",
      "R²(0.05) = 0.4063087146767544\n",
      "R²(0.1) = 0.4063087146767544\n"
     ]
    }
   ],
   "source": [
    "alphas = [0, .001, .005, .01, .05, .1]\n",
    "r_quadrados = []\n",
    "for alpha in alphas:\n",
    "    reg = smf.ols('np.log(renda) ~ '\n",
    "        'sexo_M + posse_de_veiculo + posse_de_imovel + '\n",
    "        'qtd_filhos + tipo_renda_Bolsista + tipo_renda_Empresário + '\n",
    "        'tipo_renda_Pensionista + tipo_renda_Servidor_público + '\n",
    "        'educacao_Primário + educacao_Pós_graduação + '\n",
    "        'educacao_Superior_completo + educacao_Superior_incompleto + '\n",
    "        'estado_civil_Separado + estado_civil_Solteiro + '\n",
    "        'estado_civil_União + estado_civil_Viúvo +'\n",
    "        'tipo_residencia_Aluguel + tipo_residencia_Com_os_pais + '\n",
    "        'tipo_residencia_Comunitário + tipo_residencia_Estúdio + '\n",
    "        'tipo_residencia_Governamental + idade + tempo_emprego + qt_pessoas_residencia',\n",
    "        data = df_train\n",
    "    )\n",
    "    reg = reg.fit_regularized(method='elastic_net', refit=True, L1_wt=1, alpha=alpha)\n",
    "    y_pred = np.exp(reg.predict(X_test))\n",
    "    y_real = y_test['renda']\n",
    "    r_quadrado = y_real.corr(y_pred) ** 2\n",
    "    r_quadrados.append(r_quadrado)\n",
    "    print(f'R²({alpha}) = {r_quadrado}')"
   ]
  },
  {
   "cell_type": "code",
   "execution_count": 33,
   "metadata": {},
   "outputs": [
    {
     "data": {
      "text/plain": [
       "Text(0, 0.5, 'R Quadrado')"
      ]
     },
     "execution_count": 33,
     "metadata": {},
     "output_type": "execute_result"
    },
    {
     "data": {
      "image/png": "[encoded data removed]",
      "text/plain": [
       "<Figure size 432x288 with 1 Axes>"
      ]
     },
     "metadata": {
      "needs_background": "light"
     },
     "output_type": "display_data"
    }
   ],
   "source": [
    "graf = sns.lineplot(x=alphas, y=r_quadrados, markers='o')\n",
    "graf.set_xlabel('Alpha')\n",
    "graf.set_ylabel('R Quadrado')"
   ]
  },
  {
   "cell_type": "markdown",
   "metadata": {},
   "source": [
    "Os melhores resultados foram $\\alpha = 0.05$ e $\\alpha = 0.1$"
   ]
  },
  {
   "cell_type": "markdown",
   "metadata": {},
   "source": [
    "##### Parte 4"
   ]
  },
  {
   "cell_type": "code",
   "execution_count": 34,
   "metadata": {},
   "outputs": [
    {
     "name": "stdout",
     "output_type": "stream",
     "text": [
      "Add  tempo_emprego                  with p-value 0.0\n",
      "#############\n",
      "['tempo_emprego']\n",
      "Add  sexo_F                         with p-value 5.87144e-257\n",
      "#############\n",
      "['tempo_emprego', 'sexo_F']\n",
      "Add  sexo_M                         with p-value 0.0\n",
      "#############\n",
      "['tempo_emprego', 'sexo_F', 'sexo_M']\n",
      "Add  educacao_Superior_completo     with p-value 2.1818e-05\n",
      "#############\n",
      "['tempo_emprego', 'sexo_F', 'sexo_M', 'educacao_Superior_completo']\n",
      "Add  idade                          with p-value 8.5971e-06\n",
      "#############\n",
      "['tempo_emprego', 'sexo_F', 'sexo_M', 'educacao_Superior_completo', 'idade']\n",
      "Add  tipo_renda_Empresário          with p-value 0.000909259\n",
      "#############\n",
      "['tempo_emprego', 'sexo_F', 'sexo_M', 'educacao_Superior_completo', 'idade', 'tipo_renda_Empresário']\n",
      "Add  posse_de_imovel                with p-value 0.0177945\n",
      "#############\n",
      "['tempo_emprego', 'sexo_F', 'sexo_M', 'educacao_Superior_completo', 'idade', 'tipo_renda_Empresário', 'posse_de_imovel']\n",
      "Add  qt_pessoas_residencia          with p-value 0.0295517\n",
      "#############\n",
      "['tempo_emprego', 'sexo_F', 'sexo_M', 'educacao_Superior_completo', 'idade', 'tipo_renda_Empresário', 'posse_de_imovel', 'qt_pessoas_residencia']\n",
      "#############\n",
      "['tempo_emprego', 'sexo_F', 'sexo_M', 'educacao_Superior_completo', 'idade', 'tipo_renda_Empresário', 'posse_de_imovel', 'qt_pessoas_residencia']\n"
     ]
    },
    {
     "data": {
      "text/plain": [
       "['tempo_emprego',\n",
       " 'sexo_F',\n",
       " 'sexo_M',\n",
       " 'educacao_Superior_completo',\n",
       " 'idade',\n",
       " 'tipo_renda_Empresário',\n",
       " 'posse_de_imovel',\n",
       " 'qt_pessoas_residencia']"
      ]
     },
     "execution_count": 34,
     "metadata": {},
     "output_type": "execute_result"
    }
   ],
   "source": [
    "#X_stepwise = pd.get_dummies(X_train)\n",
    "#y_stepwise = y_train\n",
    "stepwise_selection(X_train, y_train)"
   ]
  },
  {
   "cell_type": "code",
   "execution_count": 35,
   "metadata": {},
   "outputs": [
    {
     "name": "stdout",
     "output_type": "stream",
     "text": [
      "R² = 0.39826025683878197\n"
     ]
    }
   ],
   "source": [
    "reg = smf.ols('np.log(renda) ~ tempo_emprego + sexo_F + sexo_M + educacao_Superior_completo + idade + tipo_renda_Empresário + posse_de_imovel + qt_pessoas_residencia',\n",
    "    data = df_train\n",
    ").fit()\n",
    "y_pred = np.exp(reg.predict(X_test))\n",
    "y_real = y_test['renda']\n",
    "r_quadrado = y_real.corr(y_pred) ** 2\n",
    "print(f'R² = {r_quadrado}')"
   ]
  },
  {
   "cell_type": "markdown",
   "metadata": {},
   "source": [
    "O desempnho do algorítmo stepwise ficou próximo da melhor regularização."
   ]
  },
  {
   "cell_type": "markdown",
   "metadata": {},
   "source": [
    "##### Parte 5"
   ]
  },
  {
   "cell_type": "markdown",
   "metadata": {},
   "source": [
    "O melhor modelo foi a regularização Lasso com $\\alpha = 0.05$"
   ]
  },
  {
   "cell_type": "markdown",
   "metadata": {},
   "source": [
    "##### Parte 6"
   ]
  },
  {
   "cell_type": "code",
   "execution_count": 36,
   "metadata": {},
   "outputs": [
    {
     "name": "stdout",
     "output_type": "stream",
     "text": [
      "R²(0) = 0.3914619299625274\n",
      "R²(0.001) = 0.3945021390387994\n",
      "R²(0.005) = 0.40289904193951565\n",
      "R²(0.01) = 0.4095401530745929\n",
      "R²(0.05) = 0.39079085109820383\n",
      "R²(0.1) = 0.3998788577917502\n"
     ]
    }
   ],
   "source": [
    "alphas = [0, .001, .005, .01, .05, .1]\n",
    "r_quadrados = []\n",
    "for alpha in alphas:\n",
    "    reg = smf.ols('np.log(renda) ~ '\n",
    "            'sexo_M + posse_de_veiculo + posse_de_imovel + '\n",
    "            'qtd_filhos + tipo_renda_Bolsista + tipo_renda_Empresário + '\n",
    "            'tipo_renda_Pensionista + tipo_renda_Servidor_público + '\n",
    "            'educacao_Primário + educacao_Pós_graduação + '\n",
    "            'educacao_Superior_completo + educacao_Superior_incompleto + '\n",
    "            'estado_civil_Separado + estado_civil_Solteiro + '\n",
    "            'estado_civil_União + estado_civil_Viúvo +'\n",
    "            'tipo_residencia_Aluguel + tipo_residencia_Com_os_pais + '\n",
    "            'tipo_residencia_Comunitário + tipo_residencia_Estúdio + '\n",
    "            'tipo_residencia_Governamental + idade + tempo_emprego + qt_pessoas_residencia',\n",
    "            data = df_train\n",
    "        )\n",
    "    reg = reg.fit_regularized(method='elastic_net', refit=True, L1_wt=.5, alpha=alpha)\n",
    "    y_pred = np.exp(reg.predict(X_test))\n",
    "    y_real = y_test['renda']\n",
    "    r_quadrado = y_real.corr(y_pred) ** 2\n",
    "    r_quadrados.append(r_quadrado)\n",
    "    print(f'R²({alpha}) = {r_quadrado}')"
   ]
  },
  {
   "cell_type": "code",
   "execution_count": 29,
   "metadata": {},
   "outputs": [
    {
     "data": {
      "text/plain": [
       "Text(0, 0.5, 'R Quadrado')"
      ]
     },
     "execution_count": 29,
     "metadata": {},
     "output_type": "execute_result"
    },
    {
     "data": {
      "image/png": "[encoded data removed]",
      "text/plain": [
       "<Figure size 432x288 with 1 Axes>"
      ]
     },
     "metadata": {
      "needs_background": "light"
     },
     "output_type": "display_data"
    }
   ],
   "source": [
    "graf = sns.lineplot(x=alphas, y=r_quadrados, markers='o')\n",
    "graf.set_xlabel('Alpha')\n",
    "graf.set_ylabel('R Quadrado')"
   ]
  },
  {
   "cell_type": "markdown",
   "metadata": {},
   "source": [
    "Consegui um $R^2$ melhor com um $L_wt = 0.5$ e um $\\alpha = 0.01$"
   ]
  },
  {
   "cell_type": "markdown",
   "metadata": {},
   "source": [
    "##### Parte 7"
   ]
  },
  {
   "cell_type": "code",
   "execution_count": 37,
   "metadata": {},
   "outputs": [
    {
     "data": {
      "text/plain": [
       "0.42001478870465647"
      ]
     },
     "execution_count": 37,
     "metadata": {},
     "output_type": "execute_result"
    }
   ],
   "source": [
    "reg = DecisionTreeRegressor()\n",
    "reg.fit(X_train, y_train)\n",
    "reg.score(X_test, y_test)"
   ]
  },
  {
   "cell_type": "markdown",
   "metadata": {},
   "source": [
    "O $R^2$ com a árvore de regressão foi o melhor de todos."
   ]
  }
 ],
 "metadata": {
  "kernelspec": {
   "display_name": "Python 3.10.6 64-bit",
   "language": "python",
   "name": "python3"
  },
  "language_info": {
   "codemirror_mode": {
    "name": "ipython",
    "version": 3
   },
   "file_extension": ".py",
   "mimetype": "text/x-python",
   "name": "python",
   "nbconvert_exporter": "python",
   "pygments_lexer": "ipython3",
   "version": "3.10.6"
  },
  "vscode": {
   "interpreter": {
    "hash": "916dbcbb3f70747c44a77c7bcd40155683ae19c65e1c03b4aa3499c5328201f1"
   }
  }
 },
 "nbformat": 4,
 "nbformat_minor": 4
}
